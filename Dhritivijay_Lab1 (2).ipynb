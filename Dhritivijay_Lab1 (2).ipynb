{
 "cells": [
  {
   "cell_type": "code",
   "execution_count": 2,
   "id": "67dcb3ec-f665-46c3-8c14-dc106781ef75",
   "metadata": {},
   "outputs": [
    {
     "name": "stdout",
     "output_type": "stream",
     "text": [
      "Data saved to remoteok_jobs.csv\n"
     ]
    },
    {
     "data": {
      "text/markdown": [
       "### Preview: Top 10 RemoteOK Jobs"
      ],
      "text/plain": [
       "<IPython.core.display.Markdown object>"
      ]
     },
     "metadata": {},
     "output_type": "display_data"
    },
    {
     "data": {
      "text/markdown": [
       "|    | company            | position                       | location                               | tags                                                                                                                                                                                                          | date                      |\n",
       "|---:|:-------------------|:-------------------------------|:---------------------------------------|:--------------------------------------------------------------------------------------------------------------------------------------------------------------------------------------------------------------|:--------------------------|\n",
       "|  0 | Sanctuary Computer | Senior Elixir Engineer         |                                        | ['exec', 'dev', 'backend', 'full stack', 'saas', 'senior', 'ruby', 'python', 'pyton', 'django', 'react native', 'javascript', 'node']                                                                         | 2025-08-13T16:32:35+00:00 |\n",
       "|  1 | P2P. org           | Data Analyst                   | Delhi                                  | ['analyst', 'defi', 'crypto', 'system', 'consultancy', 'technical', 'support', 'growth', 'finance', 'api', 'health']                                                                                          | 2025-08-13T15:00:02+00:00 |\n",
       "|  2 | Ethena Labs        | Senior Staff Security Engineer | Globally Remote                        | ['security', 'defi', 'crypto', 'ethereum', 'full-stack', 'technical', 'software', 'testing', 'growth', 'devops', 'financial', 'finance', 'strategy', 'senior', 'engineer', 'engineering']                     | 2025-08-13T14:00:03+00:00 |\n",
       "|  3 | GoMining           | VIP Support Manager            |                                        | ['manager', 'defi', 'crypto', 'support', 'management', 'sales', 'non tech']                                                                                                                                   | 2025-08-13T11:00:02+00:00 |\n",
       "|  4 | The Trevor Project | Public Training Associate      | Remote - United States                 | ['training', 'support', 'travel', 'financial', 'education', 'management', 'senior', 'operations', 'operational', 'legal', 'health', 'educational', 'non tech']                                                | 2025-08-13T00:00:18+00:00 |\n",
       "|  5 | NTD software       | FullStack Engineer             | Latin America                          | ['dev', 'design', 'react', 'frontend', 'technical', 'support', 'developer', 'software', 'code', 'web', 'devops', 'javascript', 'cloud', 'css', 'mobile', 'engineer', 'backend', 'fullstack', 'digital nomad'] | 2025-08-12T22:00:02+00:00 |\n",
       "|  6 | Find               | Cryptocurrency Reporter        |                                        | ['cryptocurrency', 'crypto', 'content']                                                                                                                                                                       | 2025-08-12T17:00:03+00:00 |\n",
       "|  7 | Bonfire Studios    | Character Concept Artist       | United States                          | ['3d', 'support', 'recruiting']                                                                                                                                                                               | 2025-08-12T00:00:06+00:00 |\n",
       "|  8 | Coins.ph           | Strategy Manager               | Taguig City, Metro Manila, Philippines | ['manager', 'web3', 'crypto', 'cryptocurrencies', 'support', 'growth', 'financial', 'finance', 'mobile', 'strategy', 'management', 'operational']                                                             | 2025-08-11T17:00:03+00:00 |\n",
       "|  9 | Aragon             | Content &amp; Social Lead      | Remote - Anywhere                      | ['web3', 'full-stack', 'technical', 'support', 'software', 'growth', 'manager', 'seo', 'strategy', 'management', 'lead', 'content', 'marketing']                                                              | 2025-08-11T10:00:04+00:00 |"
      ],
      "text/plain": [
       "<IPython.core.display.Markdown object>"
      ]
     },
     "metadata": {},
     "output_type": "display_data"
    }
   ],
   "source": [
    "import requests\n",
    "import pandas as pd\n",
    "from IPython.display import display, Markdown  # Added for GitHub-friendly table display\n",
    "\n",
    "# RemoteOK API endpoint\n",
    "url = \"https://remoteok.com/api\"\n",
    "\n",
    "# Fetch data\n",
    "response = requests.get(url)\n",
    "data = response.json()\n",
    "\n",
    "# Convert to DataFrame (skip the first element which is metadata)\n",
    "df = pd.DataFrame(data[1:])\n",
    "\n",
    "# Select required columns\n",
    "df = df[[\"company\", \"position\", \"location\", \"tags\", \"date\"]]\n",
    "\n",
    "# Save to CSV\n",
    "csv_filename = \"remoteok_jobs.csv\"\n",
    "df.to_csv(csv_filename, index=False)\n",
    "\n",
    "# Confirmation message\n",
    "print(f\"Data saved to {csv_filename}\")\n",
    "\n",
    "# Show preview table in Jupyter AND GitHub\n",
    "display(Markdown(\"### Preview: Top 10 RemoteOK Jobs\"))\n",
    "display(Markdown(df.head(10).to_markdown()))\n"
   ]
  },
  {
   "cell_type": "code",
   "execution_count": null,
   "id": "47f76745-f841-4d99-8c31-434232354c57",
   "metadata": {},
   "outputs": [],
   "source": []
  }
 ],
 "metadata": {
  "kernelspec": {
   "display_name": "Python 3 (ipykernel)",
   "language": "python",
   "name": "python3"
  },
  "language_info": {
   "codemirror_mode": {
    "name": "ipython",
    "version": 3
   },
   "file_extension": ".py",
   "mimetype": "text/x-python",
   "name": "python",
   "nbconvert_exporter": "python",
   "pygments_lexer": "ipython3",
   "version": "3.13.5"
  }
 },
 "nbformat": 4,
 "nbformat_minor": 5
}
