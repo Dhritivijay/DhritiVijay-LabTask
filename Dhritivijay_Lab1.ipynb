{
 "cells": [
  {
   "cell_type": "code",
   "execution_count": 3,
   "id": "67dcb3ec-f665-46c3-8c14-dc106781ef75",
   "metadata": {},
   "outputs": [
    {
     "name": "stdout",
     "output_type": "stream",
     "text": [
      "Data successfully saved at: C:\\Users\\Dhriti Vijay\\remoteok_jobs.csv\n"
     ]
    },
    {
     "data": {
      "text/markdown": [
       "### Preview: Top 10 RemoteOK Jobs"
      ],
      "text/plain": [
       "<IPython.core.display.Markdown object>"
      ]
     },
     "metadata": {},
     "output_type": "display_data"
    },
    {
     "data": {
      "text/markdown": [
       "|    | Company Name       | Job Role                       | Location                               | Features/Tags                                                                                                                                                         | Timestamp           |\n",
       "|---:|:-------------------|:-------------------------------|:---------------------------------------|:----------------------------------------------------------------------------------------------------------------------------------------------------------------------|:--------------------|\n",
       "|  0 | Sanctuary Computer | Senior Elixir Engineer         | Remote/Not Specified                   | backend, dev, django, exec, full stack, javascript, node, python, pyton, react native, ruby, saas, senior                                                             | 2025-08-15 13:53:05 |\n",
       "|  1 | P2P. org           | Data Analyst                   | Delhi                                  | analyst, api, consultancy, crypto, defi, finance, growth, health, support, system, technical                                                                          | 2025-08-15 13:53:05 |\n",
       "|  2 | Ethena Labs        | Senior Staff Security Engineer | Globally Remote                        | crypto, defi, devops, engineer, engineering, ethereum, finance, financial, full-stack, growth, security, senior, software, strategy, technical, testing               | 2025-08-15 13:53:05 |\n",
       "|  3 | GoMining           | VIP Support Manager            | Remote/Not Specified                   | crypto, defi, management, manager, non tech, sales, support                                                                                                           | 2025-08-15 13:53:05 |\n",
       "|  4 | The Trevor Project | Public Training Associate      | Remote - United States                 | education, educational, financial, health, legal, management, non tech, operational, operations, senior, support, training, travel                                    | 2025-08-15 13:53:05 |\n",
       "|  5 | NTD software       | FullStack Engineer             | Latin America                          | backend, cloud, code, css, design, dev, developer, devops, digital nomad, engineer, frontend, fullstack, javascript, mobile, react, software, support, technical, web | 2025-08-15 13:53:05 |\n",
       "|  6 | Find               | Cryptocurrency Reporter        | Remote/Not Specified                   | content, crypto, cryptocurrency                                                                                                                                       | 2025-08-15 13:53:05 |\n",
       "|  7 | Bonfire Studios    | Character Concept Artist       | United States                          | 3d, recruiting, support                                                                                                                                               | 2025-08-15 13:53:05 |\n",
       "|  8 | Coins.ph           | Strategy Manager               | Taguig City, Metro Manila, Philippines | crypto, cryptocurrencies, finance, financial, growth, management, manager, mobile, operational, strategy, support, web3                                               | 2025-08-15 13:53:05 |\n",
       "|  9 | Aragon             | Content &amp; Social Lead      | Remote - Anywhere                      | content, full-stack, growth, lead, management, manager, marketing, seo, software, strategy, support, technical, web3                                                  | 2025-08-15 13:53:05 |"
      ],
      "text/plain": [
       "<IPython.core.display.Markdown object>"
      ]
     },
     "metadata": {},
     "output_type": "display_data"
    }
   ],
   "source": [
    "# 📌 RemoteOK Data Collection\n",
    "\n",
    "import requests\n",
    "import pandas as pd\n",
    "from datetime import datetime\n",
    "import os\n",
    "from IPython.display import display, Markdown  # For GitHub-friendly table display\n",
    "\n",
    "# Step 1: API Endpoint\n",
    "url = \"https://remoteok.com/api\"\n",
    "\n",
    "try:\n",
    "    # Step 2: Fetch Data\n",
    "    response = requests.get(url)\n",
    "    response.raise_for_status()  # raises error if status != 200\n",
    "    data = response.json()\n",
    "except Exception as e:\n",
    "    print(\"Error fetching data:\", e)\n",
    "    data = []\n",
    "\n",
    "# Step 3: Extract Required Fields\n",
    "jobs = []\n",
    "for job in data[1:]:  # skip metadata\n",
    "    company = job.get(\"company\", \"Not Provided\")\n",
    "    role = job.get(\"position\", \"Not Provided\")\n",
    "    location = job.get(\"location\") or \"Remote/Not Specified\"\n",
    "    tags = job.get(\"tags\", [])\n",
    "    tags_clean = \", \".join(sorted(tags)) if tags else \"None\"\n",
    "    \n",
    "    job_info = {\n",
    "        \"Company Name\": company,\n",
    "        \"Job Role\": role,\n",
    "        \"Location\": location,\n",
    "        \"Features/Tags\": tags_clean,\n",
    "        \"Timestamp\": datetime.now().strftime(\"%Y-%m-%d %H:%M:%S\")\n",
    "    }\n",
    "    jobs.append(job_info)\n",
    "\n",
    "# Step 4: Convert to DataFrame\n",
    "df = pd.DataFrame(jobs)\n",
    "\n",
    "# Step 5: Save to CSV\n",
    "save_path = os.path.join(os.getcwd(), \"remoteok_jobs.csv\")\n",
    "df.to_csv(save_path, index=False)\n",
    "\n",
    "# Step 6: Display output preview\n",
    "print(\"Data successfully saved at:\", save_path)\n",
    "display(Markdown(\"### Preview: Top 10 RemoteOK Jobs\"))\n",
    "display(Markdown(df.head(10).to_markdown()))\n"
   ]
  },
  {
   "cell_type": "code",
   "execution_count": null,
   "id": "47f76745-f841-4d99-8c31-434232354c57",
   "metadata": {},
   "outputs": [],
   "source": []
  }
 ],
 "metadata": {
  "kernelspec": {
   "display_name": "Python 3 (ipykernel)",
   "language": "python",
   "name": "python3"
  },
  "language_info": {
   "codemirror_mode": {
    "name": "ipython",
    "version": 3
   },
   "file_extension": ".py",
   "mimetype": "text/x-python",
   "name": "python",
   "nbconvert_exporter": "python",
   "pygments_lexer": "ipython3",
   "version": "3.13.5"
  }
 },
 "nbformat": 4,
 "nbformat_minor": 5
}
